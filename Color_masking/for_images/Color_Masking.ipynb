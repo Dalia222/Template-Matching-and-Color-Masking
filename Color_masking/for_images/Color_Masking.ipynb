{
  "cells": [
    {
      "cell_type": "code",
      "execution_count": 145,
      "metadata": {
        "id": "bHs0R3NhWAYm",
        "cellView": "form"
      },
      "outputs": [],
      "source": [
        "# @title imports\n",
        "import cv2 as cv\n",
        "import numpy as np\n",
        "import matplotlib.pyplot as plt\n",
        "from google.colab.patches import cv2_imshow\n",
        "import colorsys\n",
        "import os"
      ]
    },
    {
      "cell_type": "code",
      "execution_count": 148,
      "metadata": {
        "id": "vS0FJ5vWX_m1",
        "cellView": "form"
      },
      "outputs": [],
      "source": [
        "# @title Color Masking function\n",
        "\n",
        "def color_masking(image):\n",
        "    # Convert to HSV\n",
        "    hsv = cv.cvtColor(image, cv.COLOR_BGR2HSV)\n",
        "\n",
        "    lower_brown = np.array([4, 100, 10])\n",
        "    upper_brown = np.array([17, 255, 150])\n",
        "\n",
        "    # Create a binary mask\n",
        "    bin_mask = cv.inRange(hsv, lower_brown, upper_brown)\n",
        "    print(\"Before Closing\")\n",
        "    cv2_imshow(bin_mask)\n",
        "    bin_mask = cv.GaussianBlur(bin_mask, (1, 1), 0)\n",
        "\n",
        "    kernel1 = np.ones((9, 9), np.uint8)\n",
        "    kernel2 = np.ones((3, 3), np.uint8)\n",
        "\n",
        "    # Apply erosion followed by dilation (closing)\n",
        "    closing = cv.morphologyEx(bin_mask, cv.MORPH_CLOSE, kernel1)\n",
        "\n",
        "    # Apply dilation\n",
        "    # mask3 = cv.dilate(closing, kernel2, iterations=1)\n",
        "    print(\"After Closing\")\n",
        "    cv2_imshow(closing)\n",
        "\n",
        "    result = cv.bitwise_and(image, image, mask=closing)\n",
        "\n",
        "    return result\n"
      ]
    },
    {
      "cell_type": "code",
      "execution_count": null,
      "metadata": {
        "id": "U7KjzIzpY5wZ",
        "cellView": "form"
      },
      "outputs": [],
      "source": [
        "# @title final result\n",
        "\n",
        "image_folder = \"/content/drive/MyDrive/Color_masking_2\"\n",
        "image_paths = [os.path.join(image_folder, file) for file in os.listdir(image_folder) if file.endswith(('.jpg', '.jpeg', '.png', '.webp'))]\n",
        "\n",
        "# print(\"My Brown Range: \")\n",
        "# range = cv.imread(\"/content/drive/MyDrive/Color_masking_2/main-qimg-2aa3f7b98cec21b4ad252c8f8389618e.webp\")\n",
        "# cv2_imshow(range)\n",
        "\n",
        "for image_path in image_paths:\n",
        "    img = cv.imread(image_path)\n",
        "    brown_image = color_masking(img)\n",
        "\n",
        "    print(\"Original image\")\n",
        "    cv2_imshow(img)\n",
        "    print(\"Final Result\")\n",
        "    cv2_imshow(brown_image)\n"
      ]
    }
  ],
  "metadata": {
    "colab": {
      "provenance": []
    },
    "kernelspec": {
      "display_name": "Python 3",
      "name": "python3"
    },
    "language_info": {
      "name": "python"
    }
  },
  "nbformat": 4,
  "nbformat_minor": 0
}